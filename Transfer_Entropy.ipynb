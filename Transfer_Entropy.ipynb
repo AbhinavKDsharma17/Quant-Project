{
 "cells": [
  {
   "cell_type": "code",
   "execution_count": 3,
   "id": "9ed624a9",
   "metadata": {},
   "outputs": [],
   "source": [
    "import yfinance as yf\n",
    "import pandas as pd\n",
    "import numpy as np\n"
   ]
  },
  {
   "cell_type": "code",
   "execution_count": 4,
   "id": "0c8cde5d",
   "metadata": {},
   "outputs": [],
   "source": [
    "def entropy(probabilities):\n",
    "    return -np.sum(probabilities * np.log2(probabilities + 1e-10))\n",
    "\n",
    "def joint_entropy(probabilities):\n",
    "    return -np.sum(probabilities * np.log2(probabilities + 1e-10))\n"
   ]
  },
  {
   "cell_type": "code",
   "execution_count": 5,
   "id": "8b9373ee",
   "metadata": {},
   "outputs": [],
   "source": [
    "def transfer_entropy(time_series_cause, time_series_effect, lag):\n",
    "    total_samples = len(time_series_cause)\n",
    "    joint_probabilities = np.zeros((2, 2, 2))\n",
    "\n"
   ]
  },
  {
   "cell_type": "code",
   "execution_count": 7,
   "id": "d751ccdb",
   "metadata": {},
   "outputs": [],
   "source": [
    "def fetch_stock_prices(ticker, start_date, end_date):\n",
    "    stock_data = yf.download(ticker, start=start_date, end=end_date)\n",
    "    return stock_data['Close'].values\n"
   ]
  },
  {
   "cell_type": "code",
   "execution_count": 8,
   "id": "80a23a6d",
   "metadata": {},
   "outputs": [],
   "source": [
    "start_date = \"2022-01-01\"\n",
    "end_date = \"2023-01-01\"\n"
   ]
  },
  {
   "cell_type": "code",
   "execution_count": 9,
   "id": "dcdb2e3f",
   "metadata": {},
   "outputs": [
    {
     "name": "stdout",
     "output_type": "stream",
     "text": [
      "[*********************100%%**********************]  1 of 1 completed\n",
      "[*********************100%%**********************]  1 of 1 completed\n"
     ]
    }
   ],
   "source": [
    "apple_prices = fetch_stock_prices(\"AAPL\", start_date, end_date)\n",
    "microsoft_prices = fetch_stock_prices(\"MSFT\", start_date, end_date)\n"
   ]
  },
  {
   "cell_type": "code",
   "execution_count": 10,
   "id": "f6c44bc8",
   "metadata": {},
   "outputs": [],
   "source": [
    "lag = 1\n",
    "TE_apple_to_microsoft = transfer_entropy(apple_prices, microsoft_prices, lag)\n"
   ]
  },
  {
   "cell_type": "code",
   "execution_count": 12,
   "id": "7b51f0e8",
   "metadata": {},
   "outputs": [
    {
     "name": "stdout",
     "output_type": "stream",
     "text": [
      "Transfer Entropy calculation failed.\n"
     ]
    }
   ],
   "source": [
    "# Print the result with error handling\n",
    "if TE_apple_to_microsoft is not None:\n",
    "    print(f\"Transfer Entropy from Apple to Microsoft with lag {lag}: {TE_apple_to_microsoft:.4f}\")\n",
    "else:\n",
    "    print(\"Transfer Entropy calculation failed.\")\n"
   ]
  },
  {
   "cell_type": "code",
   "execution_count": 14,
   "id": "00dae5a1",
   "metadata": {},
   "outputs": [],
   "source": [
    "# When we get Transfer Entropy result it is called Effective Transfer Entropy."
   ]
  }
 ],
 "metadata": {
  "kernelspec": {
   "display_name": "Python 3 (ipykernel)",
   "language": "python",
   "name": "python3"
  },
  "language_info": {
   "codemirror_mode": {
    "name": "ipython",
    "version": 3
   },
   "file_extension": ".py",
   "mimetype": "text/x-python",
   "name": "python",
   "nbconvert_exporter": "python",
   "pygments_lexer": "ipython3",
   "version": "3.10.13"
  }
 },
 "nbformat": 4,
 "nbformat_minor": 5
}
